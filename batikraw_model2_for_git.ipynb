{
  "cells": [
    {
      "cell_type": "code",
      "execution_count": null,
      "metadata": {
        "id": "0CoFPyu93R3q"
      },
      "outputs": [],
      "source": [
        "from google.colab import drive\n",
        "import zipfile\n",
        "import numpy as np\n",
        "import os\n",
        "from PIL import Image\n",
        "import pandas as pd\n",
        "import tensorflow as tf\n",
        "from tensorflow.keras.preprocessing.image import ImageDataGenerator\n",
        "from tensorflow.keras.optimizers import Adam\n",
        "from tensorflow.keras.layers import Dense,  Dropout, Flatten, BatchNormalization, Activation\n",
        "from tensorflow.keras.models import Sequential\n",
        "from tensorflow.keras.metrics import Precision, Accuracy, Recall\n",
        "from tensorflow.keras.callbacks import ModelCheckpoint\n",
        "from tensorflow.keras import layers, Model\n",
        "from tensorflow.keras.models import load_model\n",
        "\n",
        "from keras.utils import to_categorical\n",
        "from keras.models import load_model"
      ]
    },
    {
      "cell_type": "code",
      "execution_count": null,
      "metadata": {
        "colab": {
          "base_uri": "https://localhost:8080/"
        },
        "id": "gEoo4WNnw2Pr",
        "outputId": "708d9e12-859a-46ce-dd0e-4e34255de720"
      },
      "outputs": [
        {
          "output_type": "stream",
          "name": "stdout",
          "text": [
            "Mounted at /content/drive\n"
          ]
        }
      ],
      "source": [
        "drive.mount('/content/drive')"
      ]
    },
    {
      "cell_type": "code",
      "execution_count": null,
      "metadata": {
        "id": "xj9DT35K3SCR"
      },
      "outputs": [],
      "source": [
        "with zipfile.ZipFile(\"/content/drive/MyDrive/cv_data/raw_batik_v2.zip\") as zip_ref:\n",
        "  zip_ref.extractall(\"./\")"
      ]
    },
    {
      "cell_type": "markdown",
      "metadata": {
        "id": "A5Od3aoCxPaL"
      },
      "source": [
        "# Constants"
      ]
    },
    {
      "cell_type": "code",
      "execution_count": null,
      "metadata": {
        "id": "Jy9Bqgd602Iq"
      },
      "outputs": [],
      "source": [
        "img_width = 224\n",
        "img_height = 224\n",
        "channels = 3\n",
        "total_inputs = img_width * img_height * channels\n",
        "\n",
        "batch_size = 32\n"
      ]
    },
    {
      "cell_type": "markdown",
      "metadata": {
        "id": "DGBSN6zST49V"
      },
      "source": [
        "# Data Gathering"
      ]
    },
    {
      "cell_type": "code",
      "execution_count": null,
      "metadata": {
        "colab": {
          "base_uri": "https://localhost:8080/"
        },
        "id": "B15AAJIJCoZE",
        "outputId": "ec13e491-f52d-464c-aaa2-9bf331152c56"
      },
      "outputs": [
        {
          "output_type": "stream",
          "name": "stdout",
          "text": [
            "Found 520 images belonging to 20 classes.\n",
            "Found 120 images belonging to 20 classes.\n",
            "Found 160 images belonging to 20 classes.\n",
            "Class labels:\n",
            "{'Aceh_Pintu_Aceh': 0, 'Bali_Barong': 1, 'Bali_Merak': 2, 'DKI_Ondel_Ondel': 3, 'JawaBarat_Megamendung': 4, 'JawaTimur_Pring': 5, 'Kalimantan_Dayak': 6, 'Lampung_Gajah': 7, 'Madura_Mataketeran': 8, 'Maluku_Pala': 9, 'NTB_Lumbung': 10, 'Papua_Asmat': 11, 'Papua_Cendrawasih': 12, 'Papua_Tifa': 13, 'Solo_Parang': 14, 'SulawesiSelatan_Lontara': 15, 'SumateraBarat_Rumah_Minang': 16, 'SumateraUtara_Boraspati': 17, 'Yogyakarta_Kawung': 18, 'Yogyakarta_Parang': 19}\n"
          ]
        }
      ],
      "source": [
        "train_datagen = ImageDataGenerator(rescale=1/255)\n",
        "validation_datagen = ImageDataGenerator(rescale=1/255)\n",
        "test_datagen = ImageDataGenerator(rescale=1/255)\n",
        "\n",
        "# Set up data generators for training, validation, and testing\n",
        "train_generator = train_datagen.flow_from_directory(\n",
        "    directory=os.path.join(DATA_DIR, \"train\"),\n",
        "    target_size=(img_width, img_height),\n",
        "    color_mode='rgb',\n",
        "    class_mode='categorical'  # For multi classes\n",
        ")\n",
        "\n",
        "validation_generator = validation_datagen.flow_from_directory(\n",
        "    directory=os.path.join(DATA_DIR, \"validation\"),\n",
        "    target_size=(img_width, img_height),\n",
        "    color_mode='rgb',\n",
        "    class_mode='categorical'\n",
        ")\n",
        "\n",
        "test_generator = test_datagen.flow_from_directory(\n",
        "    directory=os.path.join(DATA_DIR, \"test\"),\n",
        "    target_size=(img_width, img_height),\n",
        "    color_mode='rgb',\n",
        "    class_mode='categorical'\n",
        ")\n",
        "\n",
        "# Print class labels\n",
        "print(\"Class labels:\")\n",
        "print(train_generator.class_indices)\n",
        "DATA_DIR = \"/content/raw_batik_v1\""
      ]
    },
    {
      "cell_type": "markdown",
      "metadata": {
        "id": "VEtm_WgRz-yf"
      },
      "source": [
        "### Dataset"
      ]
    },
    {
      "cell_type": "code",
      "execution_count": null,
      "metadata": {
        "colab": {
          "base_uri": "https://localhost:8080/"
        },
        "id": "moKj8eI53SQe",
        "outputId": "54e463e2-b483-43fd-f7ca-db643b88207d"
      },
      "outputs": [
        {
          "output_type": "stream",
          "name": "stdout",
          "text": [
            "Number of images: 520\n",
            "Number of classes:20\n"
          ]
        }
      ],
      "source": [
        "num_images = train_generator.n\n",
        "num_classes = train_generator.num_classes\n",
        "print(f\"Number of images: {train_generator.n}\")\n",
        "print(f\"Number of classes:{train_generator.num_classes}\")"
      ]
    },
    {
      "cell_type": "code",
      "execution_count": null,
      "metadata": {
        "colab": {
          "base_uri": "https://localhost:8080/"
        },
        "id": "_iO0Y9zLZqns",
        "outputId": "5a3dd75a-6581-4822-ec7d-95b84df2bc9a"
      },
      "outputs": [
        {
          "output_type": "stream",
          "name": "stdout",
          "text": [
            "x_train shape: (520, 224, 224, 3)\n",
            "y_train shape: (520, 20)\n"
          ]
        }
      ],
      "source": [
        "x_train_all = []\n",
        "y_train_all = []\n",
        "\n",
        "for _ in range(num_images // batch_size + 1):\n",
        "    x_batch, y_batch = next(train_generator)\n",
        "    x_train_all.append(x_batch)\n",
        "    y_train_all.append(y_batch)\n",
        "\n",
        "x_train = np.concatenate(x_train_all, axis=0)\n",
        "y_train = np.concatenate(y_train_all, axis=0)\n",
        "\n",
        "print(\"x_train shape:\", x_train.shape)\n",
        "print(\"y_train shape:\", y_train.shape)"
      ]
    },
    {
      "cell_type": "code",
      "execution_count": null,
      "metadata": {
        "colab": {
          "base_uri": "https://localhost:8080/"
        },
        "id": "H4iUN1xpBvKJ",
        "outputId": "e8154e0f-a80f-46c5-ca94-6be5814418a4"
      },
      "outputs": [
        {
          "output_type": "stream",
          "name": "stdout",
          "text": [
            "Number of images: 120\n",
            "Number of classes:20\n"
          ]
        }
      ],
      "source": [
        "val_num_images = validation_generator.n\n",
        "val_num_classes = validation_generator.num_classes\n",
        "print(f\"Number of images: {validation_generator.n}\")\n",
        "print(f\"Number of classes:{validation_generator.num_classes}\")"
      ]
    },
    {
      "cell_type": "code",
      "execution_count": null,
      "metadata": {
        "id": "xfAu5ciPDIn0"
      },
      "outputs": [],
      "source": [
        "x_val_all = []\n",
        "y_val_all = []\n",
        "\n",
        "for _ in range(val_num_images // batch_size + 1):\n",
        "    x_val_batch, y_val_batch = next(validation_generator)\n",
        "    x_val_all.append(x_val_batch)\n",
        "    y_val_all.append(y_val_batch)\n",
        "\n",
        "x_val = np.concatenate(x_val_all, axis=0)\n",
        "y_val = np.concatenate(y_val_all, axis=0)"
      ]
    },
    {
      "cell_type": "code",
      "execution_count": null,
      "metadata": {
        "colab": {
          "base_uri": "https://localhost:8080/"
        },
        "id": "KhBbpBv2OsRM",
        "outputId": "157ec70c-538b-44c3-e845-71223a3bbd3e"
      },
      "outputs": [
        {
          "output_type": "stream",
          "name": "stdout",
          "text": [
            "Number of images: 160\n",
            "Number of classes:20\n"
          ]
        }
      ],
      "source": [
        "test_no_images = test_generator.n\n",
        "test_no_classes = test_generator.num_classes\n",
        "print(f\"Number of images: {test_generator.n}\")\n",
        "print(f\"Number of classes:{test_generator.num_classes}\")"
      ]
    },
    {
      "cell_type": "code",
      "execution_count": null,
      "metadata": {
        "id": "GVeouqNmYT39"
      },
      "outputs": [],
      "source": [
        "x_test_all = []\n",
        "y_test_all = []\n",
        "\n",
        "for _ in range(test_num_images // batch_size + 1):\n",
        "    x_test_batch, y_test_batch = next(test_generator)\n",
        "    x_test_all.append(x_test_batch)\n",
        "    y_test_all.append(y_test_batch)\n",
        "\n",
        "x_test = np.concatenate(x_test_all, axis=0)\n",
        "y_test = np.concatenate(y_test_all, axis=0)"
      ]
    },
    {
      "cell_type": "markdown",
      "metadata": {
        "id": "o_SZ9RINBmFi"
      },
      "source": [
        "## Reshaping"
      ]
    },
    {
      "cell_type": "code",
      "execution_count": null,
      "metadata": {
        "id": "9lqhwG6BBqbT"
      },
      "outputs": [],
      "source": [
        "x_train = x_train.reshape(x_train.shape[0], TOTAL_INPUTS)"
      ]
    },
    {
      "cell_type": "code",
      "execution_count": null,
      "metadata": {
        "id": "K3UHc_xmDJuq"
      },
      "outputs": [],
      "source": [
        "x_validation = x_validation.reshape(x_validation.shape[0], TOTAL_INPUTS)"
      ]
    },
    {
      "cell_type": "code",
      "execution_count": null,
      "metadata": {
        "id": "2IqwEFLdPPqs"
      },
      "outputs": [],
      "source": [
        "x_test = x_test.reshape(x_test.shape[0], TOTAL_INPUTS)"
      ]
    },
    {
      "cell_type": "markdown",
      "metadata": {
        "id": "rDejxR78TdtR"
      },
      "source": [
        "# Create Simple Modelling"
      ]
    },
    {
      "cell_type": "code",
      "execution_count": null,
      "metadata": {
        "colab": {
          "base_uri": "https://localhost:8080/"
        },
        "id": "W8roqis3TiCS",
        "outputId": "ca52c5db-02cf-4247-c938-405d749cd59e"
      },
      "outputs": [
        {
          "output_type": "stream",
          "name": "stdout",
          "text": [
            "Model: \"sequential_1\"\n",
            "_________________________________________________________________\n",
            " Layer (type)                Output Shape              Param #   \n",
            "=================================================================\n",
            " dense1 (Dense)              (None, 128)               19267712  \n",
            "                                                                 \n",
            " dropout (Dropout)           (None, 128)               0         \n",
            "                                                                 \n",
            " flatten (Flatten)           (None, 128)               0         \n",
            "                                                                 \n",
            " batch_normalization (Batch  (None, 128)               512       \n",
            " Normalization)                                                  \n",
            "                                                                 \n",
            " dense2 (Dense)              (None, 64)                8256      \n",
            "                                                                 \n",
            " batch_normalization_1 (Bat  (None, 64)                256       \n",
            " chNormalization)                                                \n",
            "                                                                 \n",
            " dense3 (Dense)              (None, 16)                1040      \n",
            "                                                                 \n",
            " batch_normalization_2 (Bat  (None, 16)                64        \n",
            " chNormalization)                                                \n",
            "                                                                 \n",
            " output_layer (Dense)        (None, 20)                340       \n",
            "                                                                 \n",
            "=================================================================\n",
            "Total params: 19278180 (73.54 MB)\n",
            "Trainable params: 19277764 (73.54 MB)\n",
            "Non-trainable params: 416 (1.62 KB)\n",
            "_________________________________________________________________\n"
          ]
        }
      ],
      "source": [
        "model = Sequential()\n",
        "\n",
        "model.add(Dense(units=128, input_dim=total_inputs, activation=\"relu\", name=\"dense1\"))\n",
        "model.add(Dropout(0.2, seed=42))\n",
        "model.add(Flatten())\n",
        "model.add(BatchNormalization())\n",
        "model.add(Dense(64, activation='relu', name='dense2'))\n",
        "model.add(BatchNormalization())\n",
        "model.add(Dense(16, activation='relu', name='dense3'))\n",
        "model.add(BatchNormalization())\n",
        "model.add(Dense(20, activation='softmax', name='output_layer'))\n",
        "\n",
        "model.compile(optimizer = 'adam',\n",
        "              loss = 'categorical_crossentropy',\n",
        "              metrics = ['accuracy'])\n",
        "\n",
        "model.summary()"
      ]
    },
    {
      "cell_type": "code",
      "execution_count": null,
      "metadata": {
        "id": "Fdr2ZCJxUGII",
        "colab": {
          "base_uri": "https://localhost:8080/"
        },
        "outputId": "ecbce385-111e-42b6-c9fe-fbc246194f1e"
      },
      "outputs": [
        {
          "output_type": "stream",
          "name": "stderr",
          "text": [
            "/usr/local/lib/python3.10/dist-packages/keras/src/engine/training.py:3103: UserWarning: You are saving your model as an HDF5 file via `model.save()`. This file format is considered legacy. We recommend using instead the native Keras format, e.g. `model.save('my_model.keras')`.\n",
            "  saving_api.save_model(\n"
          ]
        }
      ],
      "source": [
        "EPOCHS = 200\n",
        "\n",
        "checkpoint_callback = ModelCheckpoint(filepath='/content/saved_models/raw_model.h5', save_best_only=False)\n",
        "callbacks = [checkpoint_callback]\n",
        "\n",
        "history4 = model.fit(x_train, y_train,\n",
        "                      batch_size=batch_size, verbose=0,\n",
        "                      epochs=EPOCHS, callbacks=callbacks,\n",
        "                      validation_data=(x_validation, y_val))"
      ]
    },
    {
      "cell_type": "code",
      "execution_count": null,
      "metadata": {
        "colab": {
          "base_uri": "https://localhost:8080/"
        },
        "id": "YzJ4EBAB9fch",
        "outputId": "1221be4a-f71d-477d-8ea5-3e3b3008e197"
      },
      "outputs": [
        {
          "output_type": "stream",
          "name": "stdout",
          "text": [
            "4/4 [==============================] - 0s 45ms/step\n"
          ]
        },
        {
          "output_type": "execute_result",
          "data": {
            "text/plain": [
              "array([[7.006e-01, 3.707e-04, 6.276e-03, ..., 1.691e-02, 4.297e-06,\n",
              "        7.783e-05],\n",
              "       [4.566e-02, 6.008e-03, 3.769e-02, ..., 2.130e-01, 1.273e-05,\n",
              "        3.884e-05],\n",
              "       [4.060e-04, 5.633e-06, 9.677e-01, ..., 2.534e-04, 9.412e-06,\n",
              "        1.864e-06],\n",
              "       ...,\n",
              "       [1.530e-01, 1.762e-01, 7.961e-02, ..., 6.683e-02, 1.201e-05,\n",
              "        9.226e-04],\n",
              "       [7.448e-03, 8.141e-02, 4.240e-03, ..., 3.330e-01, 1.067e-05,\n",
              "        1.749e-04],\n",
              "       [3.331e-02, 1.723e-03, 1.063e-03, ..., 8.365e-01, 2.751e-06,\n",
              "        1.832e-05]], dtype=float32)"
            ]
          },
          "metadata": {},
          "execution_count": 82
        }
      ],
      "source": [
        "model.predict(x_validation)"
      ]
    },
    {
      "cell_type": "code",
      "execution_count": null,
      "metadata": {
        "colab": {
          "base_uri": "https://localhost:8080/"
        },
        "id": "3VQlK_sZ9lQS",
        "outputId": "10307e51-0bc6-4494-ea2b-29ca202d73b1"
      },
      "outputs": [
        {
          "output_type": "stream",
          "name": "stdout",
          "text": [
            "4/4 [==============================] - 0s 31ms/step\n"
          ]
        },
        {
          "output_type": "execute_result",
          "data": {
            "text/plain": [
              "(120, 20)"
            ]
          },
          "metadata": {},
          "execution_count": 83
        }
      ],
      "source": [
        "model.predict(x_validation).shape"
      ]
    },
    {
      "cell_type": "code",
      "execution_count": null,
      "metadata": {
        "colab": {
          "base_uri": "https://localhost:8080/"
        },
        "id": "nZy0XIE9-ZlB",
        "outputId": "77db39b2-d87a-4aad-8f8c-6e8ebb14574c"
      },
      "outputs": [
        {
          "output_type": "execute_result",
          "data": {
            "text/plain": [
              "['loss', 'accuracy']"
            ]
          },
          "metadata": {},
          "execution_count": 88
        }
      ],
      "source": [
        "model.metrics_names"
      ]
    },
    {
      "cell_type": "code",
      "execution_count": null,
      "metadata": {
        "colab": {
          "base_uri": "https://localhost:8080/"
        },
        "id": "ZIv0wDdF-erU",
        "outputId": "e3d5129d-7eac-4f91-d121-11518a260c85"
      },
      "outputs": [
        {
          "output_type": "stream",
          "name": "stdout",
          "text": [
            "6/6 [==============================] - 0s 33ms/step - loss: 8.1159 - accuracy: 0.1146\n",
            "Test loss : 8.12 and the test accuracy: 11.46%\n"
          ]
        }
      ],
      "source": [
        "test_loss, test_accuracy = model.evaluate(x_test_normalized, y_test)\n",
        "print(f\"Test loss : {test_loss:0.3} and the test accuracy: {test_accuracy:0.2%}\")"
      ]
    }
  ],
  "metadata": {
    "colab": {
      "provenance": [],
      "authorship_tag": "ABX9TyNJS6DNbt+lL3pombMdM9t7"
    },
    "kernelspec": {
      "display_name": "Python 3",
      "name": "python3"
    },
    "language_info": {
      "name": "python"
    }
  },
  "nbformat": 4,
  "nbformat_minor": 0
}
